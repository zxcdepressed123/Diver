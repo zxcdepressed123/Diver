{
  "nbformat": 4,
  "nbformat_minor": 0,
  "metadata": {
    "colab": {
      "provenance": [],
      "authorship_tag": "ABX9TyO8sNQvPtQbFcDuDRCXWOHK",
      "include_colab_link": true
    },
    "kernelspec": {
      "name": "python3",
      "display_name": "Python 3"
    },
    "language_info": {
      "name": "python"
    }
  },
  "cells": [
    {
      "cell_type": "markdown",
      "metadata": {
        "id": "view-in-github",
        "colab_type": "text"
      },
      "source": [
        "<a href=\"https://colab.research.google.com/github/zxcdepressed123/Diver/blob/main/Untitled1.ipynb\" target=\"_parent\"><img src=\"https://colab.research.google.com/assets/colab-badge.svg\" alt=\"Open In Colab\"/></a>"
      ]
    },
    {
      "cell_type": "code",
      "execution_count": 5,
      "metadata": {
        "colab": {
          "base_uri": "https://localhost:8080/"
        },
        "id": "DL_cT0qX_i3I",
        "outputId": "705331cc-f6c5-43e5-b6d8-bb41eea4c5c7"
      },
      "outputs": [
        {
          "output_type": "stream",
          "name": "stdout",
          "text": [
            "5.031943969696594 -3.0446404424164095\n"
          ]
        }
      ],
      "source": [
        "import numpy as np \n",
        "from scipy.optimize import fsolve\n",
        "def y(p):\n",
        "  x,y=p\n",
        "  return (x**2+x*y-10,x*y+y**2+np.sin(x)+7)\n",
        "x,y=fsolve(y,(1,0))\n",
        "\n",
        "print(x,y)\n"
      ]
    }
  ]
}